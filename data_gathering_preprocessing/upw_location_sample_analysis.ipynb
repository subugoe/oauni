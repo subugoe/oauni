{
 "cells": [
  {
   "cell_type": "markdown",
   "metadata": {},
   "source": [
    "# Classifying Unpaywall Locations - Sample Analysis"
   ]
  },
  {
   "cell_type": "markdown",
   "metadata": {},
   "source": [
    "In this notebook, I will take a look at a sample of a dataset that examines and classifies the various locations at which a scientific article is available. The articles´ location information is taken from the Unpaywall database and classified again more precisely. In this context, repository evidence in OpenDOAR was particular determined.\n",
    "\n",
    "The structure of this analysis looks like this: Firstly, the correctness of the specified `oa_category`values is checked. For this purpose, in addition to ancillary information from Unpaywall such as DOIs or evidence types, stored URLs are cross-checked and compared with possible entries in OpenDOAR. The sample table contains three further columns which are `evaluation`, `revision` and `comment`. The `evaluation` column contains a logical value and indicates whether the classification is correct or not. Once a classification is not correct, the corrected value is entered in the revision column. In addition, a comment is also given in the respective comment column. Then the actual evaluation of the findings takes place. For that, I compute the accuracy of the classification and point out common errors."
   ]
  },
  {
   "cell_type": "code",
   "execution_count": 1,
   "metadata": {},
   "outputs": [],
   "source": [
    "import pandas as pd\n",
    "import matplotlib.pyplot as plt\n",
    "from matplotlib.ticker import MaxNLocator\n",
    "import seaborn as sns\n",
    "import numpy as np\n",
    "from sklearn.metrics import accuracy_score\n",
    "import networkx as nx"
   ]
  },
  {
   "cell_type": "code",
   "execution_count": 2,
   "metadata": {},
   "outputs": [],
   "source": [
    "sns.set_style('whitegrid')"
   ]
  },
  {
   "cell_type": "code",
   "execution_count": 3,
   "metadata": {},
   "outputs": [],
   "source": [
    "df = pd.read_csv('sample_manual_check.csv', sep=';')"
   ]
  },
  {
   "cell_type": "code",
   "execution_count": 4,
   "metadata": {},
   "outputs": [
    {
     "data": {
      "text/html": [
       "<div>\n",
       "<style scoped>\n",
       "    .dataframe tbody tr th:only-of-type {\n",
       "        vertical-align: middle;\n",
       "    }\n",
       "\n",
       "    .dataframe tbody tr th {\n",
       "        vertical-align: top;\n",
       "    }\n",
       "\n",
       "    .dataframe thead th {\n",
       "        text-align: right;\n",
       "    }\n",
       "</style>\n",
       "<table border=\"1\" class=\"dataframe\">\n",
       "  <thead>\n",
       "    <tr style=\"text-align: right;\">\n",
       "      <th></th>\n",
       "      <th>upw_doi</th>\n",
       "      <th>oa_category</th>\n",
       "      <th>evidence</th>\n",
       "      <th>host_type</th>\n",
       "      <th>repository_institution</th>\n",
       "      <th>url_for_landing_page</th>\n",
       "      <th>url_for_pdf</th>\n",
       "      <th>evaluation</th>\n",
       "      <th>revision</th>\n",
       "      <th>comment</th>\n",
       "    </tr>\n",
       "  </thead>\n",
       "  <tbody>\n",
       "    <tr>\n",
       "      <th>0</th>\n",
       "      <td>10.4014/jmb.1406.06025</td>\n",
       "      <td>other_repo</td>\n",
       "      <td>oa repository (semantic scholar lookup)</td>\n",
       "      <td>repository</td>\n",
       "      <td>NaN</td>\n",
       "      <td>https://semanticscholar.org/paper/825288712308...</td>\n",
       "      <td>http://pdfs.semanticscholar.org/8252/887123083...</td>\n",
       "      <td>True</td>\n",
       "      <td>NaN</td>\n",
       "      <td>NaN</td>\n",
       "    </tr>\n",
       "    <tr>\n",
       "      <th>1</th>\n",
       "      <td>10.1017/s095252381300045x</td>\n",
       "      <td>other_oa_journal</td>\n",
       "      <td>open (via page says Open Access)</td>\n",
       "      <td>publisher</td>\n",
       "      <td>NaN</td>\n",
       "      <td>https://doi.org/10.1017/s095252381300045x</td>\n",
       "      <td>https://www.cambridge.org/core/services/aop-ca...</td>\n",
       "      <td>True</td>\n",
       "      <td>NaN</td>\n",
       "      <td>NaN</td>\n",
       "    </tr>\n",
       "    <tr>\n",
       "      <th>2</th>\n",
       "      <td>10.1017/s095252381300045x</td>\n",
       "      <td>other_repo</td>\n",
       "      <td>oa repository (via pmcid lookup)</td>\n",
       "      <td>repository</td>\n",
       "      <td>NaN</td>\n",
       "      <td>https://www.ncbi.nlm.nih.gov/pmc/articles/PMC4...</td>\n",
       "      <td>NaN</td>\n",
       "      <td>True</td>\n",
       "      <td>NaN</td>\n",
       "      <td>NaN</td>\n",
       "    </tr>\n",
       "    <tr>\n",
       "      <th>3</th>\n",
       "      <td>10.1017/s095252381300045x</td>\n",
       "      <td>opendoar_subject</td>\n",
       "      <td>oa repository (via OAI-PMH doi match)</td>\n",
       "      <td>repository</td>\n",
       "      <td>pubmedcentral.nih.gov</td>\n",
       "      <td>http://europepmc.org/articles/pmc4131156</td>\n",
       "      <td>http://europepmc.org/articles/pmc4131156?pdf=r...</td>\n",
       "      <td>True</td>\n",
       "      <td>NaN</td>\n",
       "      <td>NaN</td>\n",
       "    </tr>\n",
       "    <tr>\n",
       "      <th>4</th>\n",
       "      <td>10.1017/s095252381300045x</td>\n",
       "      <td>other_repo</td>\n",
       "      <td>oa repository (semantic scholar lookup)</td>\n",
       "      <td>repository</td>\n",
       "      <td>NaN</td>\n",
       "      <td>https://semanticscholar.org/paper/156818d2a1e3...</td>\n",
       "      <td>http://pdfs.semanticscholar.org/1c3b/41421f34b...</td>\n",
       "      <td>True</td>\n",
       "      <td>NaN</td>\n",
       "      <td>NaN</td>\n",
       "    </tr>\n",
       "  </tbody>\n",
       "</table>\n",
       "</div>"
      ],
      "text/plain": [
       "                     upw_doi       oa_category  \\\n",
       "0     10.4014/jmb.1406.06025        other_repo   \n",
       "1  10.1017/s095252381300045x  other_oa_journal   \n",
       "2  10.1017/s095252381300045x        other_repo   \n",
       "3  10.1017/s095252381300045x  opendoar_subject   \n",
       "4  10.1017/s095252381300045x        other_repo   \n",
       "\n",
       "                                  evidence   host_type repository_institution  \\\n",
       "0  oa repository (semantic scholar lookup)  repository                    NaN   \n",
       "1         open (via page says Open Access)   publisher                    NaN   \n",
       "2         oa repository (via pmcid lookup)  repository                    NaN   \n",
       "3    oa repository (via OAI-PMH doi match)  repository  pubmedcentral.nih.gov   \n",
       "4  oa repository (semantic scholar lookup)  repository                    NaN   \n",
       "\n",
       "                                url_for_landing_page  \\\n",
       "0  https://semanticscholar.org/paper/825288712308...   \n",
       "1          https://doi.org/10.1017/s095252381300045x   \n",
       "2  https://www.ncbi.nlm.nih.gov/pmc/articles/PMC4...   \n",
       "3           http://europepmc.org/articles/pmc4131156   \n",
       "4  https://semanticscholar.org/paper/156818d2a1e3...   \n",
       "\n",
       "                                         url_for_pdf  evaluation revision  \\\n",
       "0  http://pdfs.semanticscholar.org/8252/887123083...        True      NaN   \n",
       "1  https://www.cambridge.org/core/services/aop-ca...        True      NaN   \n",
       "2                                                NaN        True      NaN   \n",
       "3  http://europepmc.org/articles/pmc4131156?pdf=r...        True      NaN   \n",
       "4  http://pdfs.semanticscholar.org/1c3b/41421f34b...        True      NaN   \n",
       "\n",
       "  comment  \n",
       "0     NaN  \n",
       "1     NaN  \n",
       "2     NaN  \n",
       "3     NaN  \n",
       "4     NaN  "
      ]
     },
     "execution_count": 4,
     "metadata": {},
     "output_type": "execute_result"
    }
   ],
   "source": [
    "df.head()"
   ]
  },
  {
   "cell_type": "code",
   "execution_count": 5,
   "metadata": {},
   "outputs": [
    {
     "data": {
      "text/plain": [
       "0.9036144578313253"
      ]
     },
     "execution_count": 5,
     "metadata": {},
     "output_type": "execute_result"
    }
   ],
   "source": [
    "accuracy_score([1] * len(df.evaluation), df.evaluation)"
   ]
  },
  {
   "cell_type": "markdown",
   "metadata": {},
   "source": [
    "The accuracy of classifications determined in this sample amounts to approximately 90%. In the next step, the incorrectly classified locations are examined in more detail."
   ]
  },
  {
   "cell_type": "code",
   "execution_count": 6,
   "metadata": {},
   "outputs": [],
   "source": [
    "df_false = df[df.evaluation == False]"
   ]
  },
  {
   "cell_type": "code",
   "execution_count": 7,
   "metadata": {},
   "outputs": [
    {
     "data": {
      "text/plain": [
       "upw_doi\n",
       "10.1002/2015pa002792            1\n",
       "10.1016/j.beproc.2013.10.007    1\n",
       "10.1016/j.ccell.2017.03.001     7\n",
       "10.1051/0004-6361/201832888     4\n",
       "10.1103/physrevd.84.052011      3\n",
       "10.1111/1365-2664.12915         1\n",
       "10.1534/genetics.117.300421     1\n",
       "10.3842/sigma.2018.104          3\n",
       "10.3897/dez.63.10799            1\n",
       "10.4056/sigs.3117229            1\n",
       "10.5301/jabfm.2013.10832        1\n",
       "Name: evaluation, dtype: int64"
      ]
     },
     "execution_count": 7,
     "metadata": {},
     "output_type": "execute_result"
    }
   ],
   "source": [
    "df_false.groupby(['upw_doi'])['evaluation'].count()"
   ]
  },
  {
   "cell_type": "code",
   "execution_count": 8,
   "metadata": {},
   "outputs": [
    {
     "data": {
      "text/html": [
       "<div>\n",
       "<style scoped>\n",
       "    .dataframe tbody tr th:only-of-type {\n",
       "        vertical-align: middle;\n",
       "    }\n",
       "\n",
       "    .dataframe tbody tr th {\n",
       "        vertical-align: top;\n",
       "    }\n",
       "\n",
       "    .dataframe thead th {\n",
       "        text-align: right;\n",
       "    }\n",
       "</style>\n",
       "<table border=\"1\" class=\"dataframe\">\n",
       "  <thead>\n",
       "    <tr style=\"text-align: right;\">\n",
       "      <th></th>\n",
       "      <th>upw_doi</th>\n",
       "      <th>oa_category</th>\n",
       "      <th>evidence</th>\n",
       "      <th>host_type</th>\n",
       "      <th>repository_institution</th>\n",
       "      <th>url_for_landing_page</th>\n",
       "      <th>url_for_pdf</th>\n",
       "      <th>evaluation</th>\n",
       "      <th>revision</th>\n",
       "      <th>comment</th>\n",
       "    </tr>\n",
       "  </thead>\n",
       "  <tbody>\n",
       "    <tr>\n",
       "      <th>count</th>\n",
       "      <td>24</td>\n",
       "      <td>24</td>\n",
       "      <td>22</td>\n",
       "      <td>22</td>\n",
       "      <td>20</td>\n",
       "      <td>21</td>\n",
       "      <td>16</td>\n",
       "      <td>24</td>\n",
       "      <td>24</td>\n",
       "      <td>22</td>\n",
       "    </tr>\n",
       "    <tr>\n",
       "      <th>unique</th>\n",
       "      <td>11</td>\n",
       "      <td>4</td>\n",
       "      <td>3</td>\n",
       "      <td>1</td>\n",
       "      <td>12</td>\n",
       "      <td>21</td>\n",
       "      <td>16</td>\n",
       "      <td>1</td>\n",
       "      <td>6</td>\n",
       "      <td>15</td>\n",
       "    </tr>\n",
       "    <tr>\n",
       "      <th>top</th>\n",
       "      <td>10.1016/j.ccell.2017.03.001</td>\n",
       "      <td>other_repo</td>\n",
       "      <td>oa repository (via OAI-PMH doi match)</td>\n",
       "      <td>repository</td>\n",
       "      <td>Max Planck Society - MPG.PuRe</td>\n",
       "      <td>http://hdl.handle.net/11858/00-001M-0000-002D-...</td>\n",
       "      <td>http://hdl.handle.net/11858/00-001M-0000-002D-...</td>\n",
       "      <td>False</td>\n",
       "      <td>opendoar_other</td>\n",
       "      <td>https://v2.sherpa.ac.uk/id/repository/1874</td>\n",
       "    </tr>\n",
       "    <tr>\n",
       "      <th>freq</th>\n",
       "      <td>7</td>\n",
       "      <td>18</td>\n",
       "      <td>11</td>\n",
       "      <td>22</td>\n",
       "      <td>6</td>\n",
       "      <td>1</td>\n",
       "      <td>1</td>\n",
       "      <td>24</td>\n",
       "      <td>14</td>\n",
       "      <td>3</td>\n",
       "    </tr>\n",
       "  </tbody>\n",
       "</table>\n",
       "</div>"
      ],
      "text/plain": [
       "                            upw_doi oa_category  \\\n",
       "count                            24          24   \n",
       "unique                           11           4   \n",
       "top     10.1016/j.ccell.2017.03.001  other_repo   \n",
       "freq                              7          18   \n",
       "\n",
       "                                     evidence   host_type  \\\n",
       "count                                      22          22   \n",
       "unique                                      3           1   \n",
       "top     oa repository (via OAI-PMH doi match)  repository   \n",
       "freq                                       11          22   \n",
       "\n",
       "               repository_institution  \\\n",
       "count                              20   \n",
       "unique                             12   \n",
       "top     Max Planck Society - MPG.PuRe   \n",
       "freq                                6   \n",
       "\n",
       "                                     url_for_landing_page  \\\n",
       "count                                                  21   \n",
       "unique                                                 21   \n",
       "top     http://hdl.handle.net/11858/00-001M-0000-002D-...   \n",
       "freq                                                    1   \n",
       "\n",
       "                                              url_for_pdf evaluation  \\\n",
       "count                                                  16         24   \n",
       "unique                                                 16          1   \n",
       "top     http://hdl.handle.net/11858/00-001M-0000-002D-...      False   \n",
       "freq                                                    1         24   \n",
       "\n",
       "              revision                                     comment  \n",
       "count               24                                          22  \n",
       "unique               6                                          15  \n",
       "top     opendoar_other  https://v2.sherpa.ac.uk/id/repository/1874  \n",
       "freq                14                                           3  "
      ]
     },
     "execution_count": 8,
     "metadata": {},
     "output_type": "execute_result"
    }
   ],
   "source": [
    "df_false.describe()"
   ]
  },
  {
   "cell_type": "markdown",
   "metadata": {},
   "source": [
    "In this sample, 11% of articles have at least one faulty connection to a location. Overall, about 10% of the locations are classified incorrectly."
   ]
  },
  {
   "cell_type": "code",
   "execution_count": 9,
   "metadata": {},
   "outputs": [
    {
     "data": {
      "image/png": "[encoded data removed]",
      "text/plain": [
       "<Figure size 504x360 with 1 Axes>"
      ]
     },
     "metadata": {},
     "output_type": "display_data"
    }
   ],
   "source": [
    "df_false_evaluation = df_false['oa_category'].value_counts().reset_index()\n",
    "df_false_evaluation.columns = ['oa_category', 'number_of_wrong_categorizations']\n",
    "\n",
    "fig, axes = plt.subplots(figsize=(7,5))\n",
    "\n",
    "ax = sns.barplot(x='oa_category',\n",
    "                 y='number_of_wrong_categorizations',\n",
    "                 data=df_false_evaluation,\n",
    "                 color='#b3b3b3a0',\n",
    "                 alpha=0.8,\n",
    "                 linewidth=1.4,\n",
    "                 edgecolor='black')\n",
    "\n",
    "for bar in ax.patches:\n",
    "    x = bar.get_x()\n",
    "    width = bar.get_width()\n",
    "    bar.set_x(x + width/2 - 0.75/2)\n",
    "    bar.set_width(0.75)\n",
    "\n",
    "ax.yaxis.set_major_locator(MaxNLocator(integer=True))\n",
    "\n",
    "plt.title('Number of wrong Classifications to Open Access Category',\n",
    "          fontsize=12, fontweight=700)\n",
    "\n",
    "plt.xlabel('Open Access Category', \n",
    "           labelpad=15, fontsize=9, fontweight=600)\n",
    "\n",
    "plt.ylabel('Number of false Classifications', \n",
    "           labelpad=15, fontsize=9, fontweight=600)\n",
    "\n",
    "plt.box(False)\n",
    "\n",
    "plt.tight_layout()\n",
    "\n",
    "plt.show()"
   ]
  },
  {
   "cell_type": "markdown",
   "metadata": {},
   "source": [
    "As can be seen, by far most of the locations that were incorrectly recognized have been classified as `other_repo`. In addition, incorrect classifications were found in the groups `opendoar_inst`, `not_oa` and `opendoar_subject`. In three cases, the allocation of evidence types of an article by Unpaywall was incorrect. In one of these cases, the location of an article was mistakenly classified as a repository, but turned out to be an open access journal (see [Link](https://www.aanda.org/)). In two other cases, alleged closed access articles were openly available. Further, classification errors with this [repository](https://pure.mpg.de/) were particularly frequently. This repository was often recognized as `other_repo` but is available in OpenDOAR ([Link](https://v2.sherpa.ac.uk/id/repository/1874)). Various other problems also occurred in connection with this repository. For instance, additional material such as Excel spreadsheets were associated with the specified URL in the dataset sample. In other cases, different versions of an article were available. Besides that, also locations that are available through the same domain are being recognized several times differently, but are classified uniformly in OpenDOAR. See [zenodo](https://v2.sherpa.ac.uk/id/repository/2659)."
   ]
  },
  {
   "cell_type": "code",
   "execution_count": 10,
   "metadata": {},
   "outputs": [
    {
     "data": {
      "text/html": [
       "<div>\n",
       "<style scoped>\n",
       "    .dataframe tbody tr th:only-of-type {\n",
       "        vertical-align: middle;\n",
       "    }\n",
       "\n",
       "    .dataframe tbody tr th {\n",
       "        vertical-align: top;\n",
       "    }\n",
       "\n",
       "    .dataframe thead th {\n",
       "        text-align: right;\n",
       "    }\n",
       "</style>\n",
       "<table border=\"1\" class=\"dataframe\">\n",
       "  <thead>\n",
       "    <tr style=\"text-align: right;\">\n",
       "      <th></th>\n",
       "      <th>upw_doi</th>\n",
       "      <th>oa_category</th>\n",
       "      <th>evidence</th>\n",
       "      <th>host_type</th>\n",
       "      <th>repository_institution</th>\n",
       "      <th>url_for_landing_page</th>\n",
       "      <th>url_for_pdf</th>\n",
       "      <th>evaluation</th>\n",
       "      <th>revision</th>\n",
       "      <th>comment</th>\n",
       "    </tr>\n",
       "  </thead>\n",
       "  <tbody>\n",
       "    <tr>\n",
       "      <th>234</th>\n",
       "      <td>10.3897/dez.63.10799</td>\n",
       "      <td>opendoar_other</td>\n",
       "      <td>oa repository (via OAI-PMH title and first aut...</td>\n",
       "      <td>repository</td>\n",
       "      <td>CERN European Organization for Nuclear Researc...</td>\n",
       "      <td>https://zenodo.org/record/168551</td>\n",
       "      <td>https://zenodo.org/record/168551/files/DEZ_art...</td>\n",
       "      <td>True</td>\n",
       "      <td>NaN</td>\n",
       "      <td>NaN</td>\n",
       "    </tr>\n",
       "    <tr>\n",
       "      <th>235</th>\n",
       "      <td>10.3897/dez.63.10799</td>\n",
       "      <td>opendoar_inst</td>\n",
       "      <td>oa repository (via OAI-PMH title and first aut...</td>\n",
       "      <td>repository</td>\n",
       "      <td>CERN European Organization for Nuclear Researc...</td>\n",
       "      <td>https://zenodo.org/record/168551</td>\n",
       "      <td>https://zenodo.org/record/168551/files/DEZ_art...</td>\n",
       "      <td>False</td>\n",
       "      <td>opendoar_other</td>\n",
       "      <td>https://v2.sherpa.ac.uk/id/repository/2659</td>\n",
       "    </tr>\n",
       "  </tbody>\n",
       "</table>\n",
       "</div>"
      ],
      "text/plain": [
       "                  upw_doi     oa_category  \\\n",
       "234  10.3897/dez.63.10799  opendoar_other   \n",
       "235  10.3897/dez.63.10799   opendoar_inst   \n",
       "\n",
       "                                              evidence   host_type  \\\n",
       "234  oa repository (via OAI-PMH title and first aut...  repository   \n",
       "235  oa repository (via OAI-PMH title and first aut...  repository   \n",
       "\n",
       "                                repository_institution  \\\n",
       "234  CERN European Organization for Nuclear Researc...   \n",
       "235  CERN European Organization for Nuclear Researc...   \n",
       "\n",
       "                 url_for_landing_page  \\\n",
       "234  https://zenodo.org/record/168551   \n",
       "235  https://zenodo.org/record/168551   \n",
       "\n",
       "                                           url_for_pdf  evaluation  \\\n",
       "234  https://zenodo.org/record/168551/files/DEZ_art...        True   \n",
       "235  https://zenodo.org/record/168551/files/DEZ_art...       False   \n",
       "\n",
       "           revision                                     comment  \n",
       "234             NaN                                         NaN  \n",
       "235  opendoar_other  https://v2.sherpa.ac.uk/id/repository/2659  "
      ]
     },
     "execution_count": 10,
     "metadata": {},
     "output_type": "execute_result"
    }
   ],
   "source": [
    "df[df.url_for_landing_page.str.contains('zenodo', na=False)]"
   ]
  },
  {
   "cell_type": "markdown",
   "metadata": {},
   "source": [
    "In the next step, the distribution of the revised categories will be examined."
   ]
  },
  {
   "cell_type": "code",
   "execution_count": 11,
   "metadata": {},
   "outputs": [
    {
     "data": {
      "image/png": "[encoded data removed]",
      "text/plain": [
       "<Figure size 648x360 with 1 Axes>"
      ]
     },
     "metadata": {},
     "output_type": "display_data"
    }
   ],
   "source": [
    "df_false_revision = df_false['revision'].value_counts().reset_index()\n",
    "df_false_revision.columns = ['oa_category', 'number_of_revised_categorizations']\n",
    "\n",
    "fig, axes = plt.subplots(figsize=(9,5))\n",
    "\n",
    "ax = sns.barplot(x='oa_category',\n",
    "                 y='number_of_revised_categorizations',\n",
    "                 data=df_false_revision,\n",
    "                 alpha=0.8,\n",
    "                 linewidth=1.4,\n",
    "                 color='#b3b3b3a0',\n",
    "                 edgecolor='black')\n",
    "\n",
    "ax.yaxis.set_major_locator(MaxNLocator(integer=True))\n",
    "\n",
    "plt.title('Number of revised Classifications to Open Access Category',\n",
    "          fontsize=12, fontweight=700)\n",
    "\n",
    "plt.xlabel('Open Access Category', \n",
    "           labelpad=15, fontsize=9, fontweight=600)\n",
    "\n",
    "plt.ylabel('Number of revised Classifications', \n",
    "           labelpad=15, fontsize=9, fontweight=600)\n",
    "\n",
    "plt.box(False)\n",
    "\n",
    "plt.show()"
   ]
  },
  {
   "cell_type": "markdown",
   "metadata": {},
   "source": [
    "In most cases, repositories were not associated with OpenDOAR, although there is an entry. Interestingly, incorrect locations were often not recognized as `opendoar_other`. For a few cases, `opendoar_inst` was also not classified correctly. These were often recognized as `other_repo`. In one case, no connection to OpenDOAR could be proven and was therefore noted as `other_repo`. However, there may be an entry for this repository in OpenDOAR. The repository is located [here](http://www.vliz.be).\n",
    "\n",
    "In order to visualize the revision in more detail, I will present the results using a network. The nodes represent locations (incorrect as well as revised) and the edges point to the corrected location. The edges are weighted according to their frequency. The weighting was normalized by the average value of the weights. "
   ]
  },
  {
   "cell_type": "code",
   "execution_count": 12,
   "metadata": {},
   "outputs": [
    {
     "data": {
      "image/png": "[encoded data removed]",
      "text/plain": [
       "<Figure size 504x288 with 1 Axes>"
      ]
     },
     "metadata": {},
     "output_type": "display_data"
    }
   ],
   "source": [
    "fig = plt.figure(figsize=(7,4))\n",
    "\n",
    "df_false_edges = df_false.agg(lambda x: tuple([x['oa_category'], x['revision']]), \n",
    "                                      axis=1).values\n",
    "\n",
    "G = nx.DiGraph()\n",
    "G.add_edges_from(df_false_edges)\n",
    "\n",
    "for u, v, d in G.edges(data=True):\n",
    "    weight = list(df_false_edges).count(tuple([u, v]))\n",
    "    G[u][v]['weight'] = weight\n",
    "    \n",
    "edgewidth = [d['weight'] for (u, v, d) in G.edges(data = True)]\n",
    "edgewidth = [w / np.mean(edgewidth) for w in edgewidth]\n",
    "\n",
    "pos = nx.circular_layout(G)\n",
    "\n",
    "nx.draw(G, \n",
    "        pos=pos, \n",
    "        width=edgewidth, \n",
    "        with_labels=True, \n",
    "        node_size=900,\n",
    "        linewidths=0.3,\n",
    "        alpha=0.95,\n",
    "        node_color='#b3b3b3',\n",
    "        font_size=10, \n",
    "        font_weight='bold')\n",
    "\n",
    "ax = plt.gca() \n",
    "ax.collections[0].set_edgecolor('black')\n",
    "\n",
    "plt.show()"
   ]
  },
  {
   "cell_type": "markdown",
   "metadata": {},
   "source": [
    "`opendoar_other` in particular was often incorrectly recognized as `other_repo`. In addition, entries from repositories classified as `other_repo` were verified in OpenDOAR as institutional repositories. The two cases, which were incorrectly recognized as closed access, split into `other_oa_journal` and `full_oa_journal` after the revision."
   ]
  },
  {
   "cell_type": "code",
   "execution_count": null,
   "metadata": {},
   "outputs": [],
   "source": []
  }
 ],
 "metadata": {
  "kernelspec": {
   "display_name": "Python 3",
   "language": "python",
   "name": "python3"
  },
  "language_info": {
   "codemirror_mode": {
    "name": "ipython",
    "version": 3
   },
   "file_extension": ".py",
   "mimetype": "text/x-python",
   "name": "python",
   "nbconvert_exporter": "python",
   "pygments_lexer": "ipython3",
   "version": "3.7.4"
  }
 },
 "nbformat": 4,
 "nbformat_minor": 4
}
